{
 "cells": [
  {
   "cell_type": "code",
   "execution_count": 4,
   "metadata": {},
   "outputs": [],
   "source": [
    "from __future__ import print_function\n",
    "from keras.callbacks import LambdaCallback\n",
    "from keras.models import Sequential\n",
    "from keras.layers import Dense, Activation\n",
    "from keras.layers import LSTM\n",
    "from keras.optimizers import RMSprop, Adam\n",
    "from keras.utils.data_utils import get_file\n",
    "import numpy as np\n",
    "import pandas as pd\n",
    "import random\n",
    "import sys\n",
    "import io\n",
    "import re"
   ]
  },
  {
   "cell_type": "code",
   "execution_count": 5,
   "metadata": {},
   "outputs": [],
   "source": [
    "songs = pd.read_csv('data/drake-songs.csv')"
   ]
  },
  {
   "cell_type": "code",
   "execution_count": 6,
   "metadata": {},
   "outputs": [
    {
     "data": {
      "text/plain": [
       "367372"
      ]
     },
     "execution_count": 6,
     "metadata": {},
     "output_type": "execute_result"
    }
   ],
   "source": [
    "text = ''\n",
    "\n",
    "for index, row in songs['lyrics'].iteritems():\n",
    "    cleaned = str(row).lower().replace(' ', '\\n')\n",
    "    text = text + \" \".join(re.findall(r\"[a-z']+\", cleaned))\n",
    "    \n",
    "len(text)"
   ]
  },
  {
   "cell_type": "code",
   "execution_count": 7,
   "metadata": {},
   "outputs": [
    {
     "name": "stdout",
     "output_type": "stream",
     "text": [
      "total chars: 28\n"
     ]
    }
   ],
   "source": [
    "import re\n",
    "\n",
    "tokens = re.findall(r\"[a-z'\\s]\", text)\n",
    "\n",
    "chars = sorted(list(set(tokens)))\n",
    "print('total chars:', len(chars))\n",
    "char_indices = dict((c, i) for i, c in enumerate(chars))\n",
    "indices_char = dict((i, c) for i, c in enumerate(chars))"
   ]
  },
  {
   "cell_type": "code",
   "execution_count": 8,
   "metadata": {
    "scrolled": true
   },
   "outputs": [
    {
     "data": {
      "text/plain": [
       "[' ',\n",
       " \"'\",\n",
       " 'a',\n",
       " 'b',\n",
       " 'c',\n",
       " 'd',\n",
       " 'e',\n",
       " 'f',\n",
       " 'g',\n",
       " 'h',\n",
       " 'i',\n",
       " 'j',\n",
       " 'k',\n",
       " 'l',\n",
       " 'm',\n",
       " 'n',\n",
       " 'o',\n",
       " 'p',\n",
       " 'q',\n",
       " 'r',\n",
       " 's',\n",
       " 't',\n",
       " 'u',\n",
       " 'v',\n",
       " 'w',\n",
       " 'x',\n",
       " 'y',\n",
       " 'z']"
      ]
     },
     "execution_count": 8,
     "metadata": {},
     "output_type": "execute_result"
    }
   ],
   "source": [
    "chars"
   ]
  },
  {
   "cell_type": "code",
   "execution_count": 9,
   "metadata": {
    "scrolled": true
   },
   "outputs": [
    {
     "name": "stdout",
     "output_type": "stream",
     "text": [
      "nb sequences: 122444\n"
     ]
    }
   ],
   "source": [
    "# cut the text in semi-redundant sequences of maxlen characters\n",
    "maxlen = 40\n",
    "step = 3\n",
    "sentences = []\n",
    "next_chars = []\n",
    "\n",
    "for i in range(0, len(text) - maxlen, step):\n",
    "    sentences.append(text[i: i + maxlen])\n",
    "    next_chars.append(text[i + maxlen])\n",
    "    \n",
    "print('nb sequences:', len(sentences))"
   ]
  },
  {
   "cell_type": "code",
   "execution_count": 10,
   "metadata": {},
   "outputs": [
    {
     "name": "stdout",
     "output_type": "stream",
     "text": [
      "Vectorization...\n"
     ]
    }
   ],
   "source": [
    "print('Vectorization...')\n",
    "\n",
    "x = np.zeros((len(sentences), maxlen, len(chars)), dtype=np.bool)\n",
    "y = np.zeros((len(sentences), len(chars)), dtype=np.bool)\n",
    "\n",
    "for i, sentence in enumerate(sentences):\n",
    "    for t, char in enumerate(sentence):\n",
    "        x[i, t, char_indices[char]] = 1\n",
    "    y[i, char_indices[next_chars[i]]] = 1"
   ]
  },
  {
   "cell_type": "code",
   "execution_count": 11,
   "metadata": {},
   "outputs": [
    {
     "name": "stdout",
     "output_type": "stream",
     "text": [
      "Build model...\n"
     ]
    }
   ],
   "source": [
    "# build the model: a single LSTM\n",
    "print('Build model...')\n",
    "model = Sequential()\n",
    "model.add(LSTM(128, input_shape=(maxlen, len(chars))))\n",
    "model.add(Dense(len(chars)))\n",
    "model.add(Activation('softmax'))\n",
    "\n",
    "model.compile(loss='categorical_crossentropy', optimizer=RMSprop(lr=0.01))"
   ]
  },
  {
   "cell_type": "code",
   "execution_count": 12,
   "metadata": {},
   "outputs": [
    {
     "name": "stdout",
     "output_type": "stream",
     "text": [
      "_________________________________________________________________\n",
      "Layer (type)                 Output Shape              Param #   \n",
      "=================================================================\n",
      "lstm_1 (LSTM)                (None, 128)               80384     \n",
      "_________________________________________________________________\n",
      "dense_1 (Dense)              (None, 28)                3612      \n",
      "_________________________________________________________________\n",
      "activation_1 (Activation)    (None, 28)                0         \n",
      "=================================================================\n",
      "Total params: 83,996\n",
      "Trainable params: 83,996\n",
      "Non-trainable params: 0\n",
      "_________________________________________________________________\n"
     ]
    }
   ],
   "source": [
    "model.summary()"
   ]
  },
  {
   "cell_type": "code",
   "execution_count": 13,
   "metadata": {},
   "outputs": [],
   "source": [
    "def sample(preds, temperature=1.0):\n",
    "    preds = np.asarray(preds).astype('float64')\n",
    "    preds = np.log(preds) / temperature\n",
    "    exp_preds = np.exp(preds)\n",
    "    preds = exp_preds / np.sum(exp_preds)\n",
    "    probas = np.random.multinomial(1, preds, 1)\n",
    "    return np.argmax(probas)"
   ]
  },
  {
   "cell_type": "code",
   "execution_count": 14,
   "metadata": {},
   "outputs": [],
   "source": [
    "def on_epoch_end(epoch, logs):\n",
    "    print('----- Generating text after Epoch: %d' % epoch)\n",
    "\n",
    "    start_index = random.randint(0, len(text) - maxlen - 1)\n",
    "    for diversity in [0.2, 0.5]:\n",
    "        print('----- diversity:', diversity)\n",
    "\n",
    "        generated = ''\n",
    "        sentence = text[start_index: start_index + maxlen]\n",
    "        generated += sentence\n",
    "        print('----- Generating with seed: \"' + sentence + '\"')\n",
    "        sys.stdout.write(generated)\n",
    "\n",
    "        for i in range(400):\n",
    "            x_pred = np.zeros((1, maxlen, len(chars)))\n",
    "            for t, char in enumerate(sentence):\n",
    "                x_pred[0, t, char_indices[char]] = 1.\n",
    "\n",
    "            preds = model.predict(x_pred, verbose=0)[0]\n",
    "            next_index = sample(preds, diversity)\n",
    "            next_char = indices_char[next_index]\n",
    "\n",
    "            generated += next_char\n",
    "            sentence = sentence[1:] + next_char\n",
    "\n",
    "            sys.stdout.write(next_char)\n",
    "            sys.stdout.flush()\n",
    "        print()"
   ]
  },
  {
   "cell_type": "code",
   "execution_count": 22,
   "metadata": {},
   "outputs": [
    {
     "name": "stdout",
     "output_type": "stream",
     "text": [
      "Epoch 1/10\n",
      "122444/122444 [==============================] - 89s 726us/step - loss: 1.3089\n",
      "----- Generating text after Epoch: 0\n",
      "----- diversity: 0.2\n",
      "----- Generating with seed: \"l in love with the rollie i wake up and \"\n",
      "l in love with the rollie i wake up and i want that you have to be the way i want that i want that i want that i was and i still and i still and i say it was all this all the way i'm gone that i want that i want that i want that i want that you can take the way i want that i want that i want that you want that i want that i was all that i want that i want that i want that i want that i won't want that i want that i won't wanna save you \n",
      "----- diversity: 0.5\n",
      "----- Generating with seed: \"l in love with the rollie i wake up and \"\n",
      "l in love with the rollie i wake up and the hate get it i need a get it i get it i get it i'm trying to you don't wanna fuck it i'm the way it was boy it all the can't stane that you know you don't tried to make all the lost and you know the way not flowing on the bands done have you that i'm still her and the way who the panting and i see me when you need to back in the changed the with the night and i all way it like it i won't wanna \n",
      "Epoch 2/10\n",
      "122444/122444 [==============================] - 89s 730us/step - loss: 1.2836\n",
      "----- Generating text after Epoch: 1\n",
      "----- diversity: 0.2\n",
      "----- Generating with seed: \" this anymore i need someone to hold me \"\n",
      " this anymore i need someone to hold me and i got the things that i don't want that i stay that i don't wanna spend that i got that i got that i don't want that i don't want that i stay one that i don't wanna stand that i don't want that i got a bandy that i don't want that i don't want that i ain't throwing on the time that i don't want that i got a gang that i don't say you want that you got my bed and i'm trying that i got my nigga t\n",
      "----- diversity: 0.5\n",
      "----- Generating with seed: \" this anymore i need someone to hold me \"\n",
      " this anymore i need someone to hold me yeah and you got it contred to the girl oh yeah i don't mill the fuck and i got now and i say you ain't trust it money that that you want that the fame that i know on the contor and that yeah you got the faith it i'm still word it that what i'm straight that i make a bar make it you know and we don't not the whole that shit done it was ain't even nothing on the bation on the time i know how i'm to\n",
      "Epoch 3/10\n",
      "122444/122444 [==============================] - 89s 726us/step - loss: 1.2644\n",
      "----- Generating text after Epoch: 2\n",
      "----- diversity: 0.2\n",
      "----- Generating with seed: \" i see is fireworks every night is firew\"\n",
      " i see is fireworks every night is fireworks to the bout to me when i stand on the things that i would see it i don't wanna be the cash the way it and i started me i been the beat and i stand to be for the women i want to the way i can tell me they loving the way i can tell me they wish you you don't ende no the controlla they loving the way it work the things i don't wanna be i don't wanna be for me i been the beat the whole that i wou\n",
      "----- diversity: 0.5\n",
      "----- Generating with seed: \" i see is fireworks every night is firew\"\n",
      " i see is fireworks every night is fireworks to make me now you don't know you the places to the call a compore to come the news that i like it if i don't winder that you got it money and it from the less you don't can't see my mind it i'm poo but i don't was the crust there's say you been ever time it for the things we'll deed i can tell you they loving me and i won a good they all i got the way everything you need my man you the she s\n",
      "Epoch 4/10\n",
      "122444/122444 [==============================] - 91s 744us/step - loss: 1.25361\n",
      "----- Generating text after Epoch: 3\n",
      "----- diversity: 0.2\n",
      "----- Generating with seed: \" not your friend not your guy i'm not yo\"\n",
      " not your friend not your guy i'm not you don't want the real i got it i get it i get it i get it i get it it i get it i get it i get it i get it i get it i get it i get it i get it i get it i get it i get it i get it i get it i get it i get it i get it i get it i get it i get it i get it i get it i get it i get it i get it i get it i get it i get it i get it i get it i get it i get it i get it i get it i get it i get it i get it i get \n",
      "----- diversity: 0.5\n",
      "----- Generating with seed: \" not your friend not your guy i'm not yo\"\n",
      " not your friend not your guy i'm not you don't know and this and 'em that i i thought i don't be the bottom niggas i got me they got to go gradygain i don't mean i don't in my go the things it always how i got party and i'm not good go go gay you don't know you the things and they w"
     ]
    },
    {
     "name": "stderr",
     "output_type": "stream",
     "text": [
      "/home/nikolaevra/.local/lib/python3.5/site-packages/ipykernel_launcher.py:3: RuntimeWarning: divide by zero encountered in log\n",
      "  This is separate from the ipykernel package so we can avoid doing imports until\n"
     ]
    },
    {
     "name": "stdout",
     "output_type": "stream",
     "text": [
      "ant the tate of the guill never be waitin' it i need me and they got a ming i want it they got a grame the wast i got it we're here there now you know it th\n",
      "Epoch 5/10\n",
      "122444/122444 [==============================] - 89s 724us/step - loss: 1.2385\n",
      "----- Generating text after Epoch: 4\n",
      "----- diversity: 0.2\n",
      "----- Generating with seed: \"nk all day if you don't start in the mor\"\n",
      "nk all day if you don't start in the more i got a lot of me i got a lot of my friends they know that i got a bandy the game and i got me i got a lot about me i got it i get it i get it i'm too good they got it they love i can't see it i'm the bound to spend all the bottom now when i'm a man like the bottom now when i got it i guess i get it i get it i'm the guest i get it i get it i'm too good to see the bone and the check i don't have \n",
      "----- diversity: 0.5\n",
      "----- Generating with seed: \"nk all day if you don't start in the mor\"\n",
      "nk all day if you don't start in the morer in the connect in the bound no love i want the check on the cloth no so show you cannot bout a say i'm ball i'm snople with you they got a really bed shit and my big the boung all my face yeah i ain't even know you know the word to see i love the check i got the low i know the ound the bound when i do look the tefened i ain't ass for my face you know i'm the mand the greatest they love in the c\n",
      "Epoch 6/10\n",
      "122444/122444 [==============================] - 92s 749us/step - loss: 1.2291\n",
      "----- Generating text after Epoch: 5\n",
      "----- diversity: 0.2\n",
      "----- Generating with seed: \"all light up hey guru tell hom' to go to\"\n",
      "all light up hey guru tell hom' to go to me i want to the bottom now the bout i go i'm a nigga with me when i don't see you now i got to wastin' on the bad bitch i been hurt i'm a back then i don't can but i don't know that i done you can believe i stay the bottom now we started the back then i stay to me when i don't can been the are because i stay to be for me i don't be the bottom now we start to the bottom now we gone the bottom now\n",
      "----- diversity: 0.5\n",
      "----- Generating with seed: \"all light up hey guru tell hom' to go to\"\n",
      "all light up hey guru tell hom' to go to comporer way it when i hear the artand she bent and the bout me get a but i got money they handle out to party with i'm gone and i'mma go hard and in the games so i could be for i'm the man and like a back wastin' here with they still be with no with your name yeah yeah yeah yeah yeah yeah yeah you see when you could be then i done straight the danger i'm just i take it was always in from me face\n",
      "Epoch 7/10\n",
      "122444/122444 [==============================] - 97s 790us/step - loss: 1.2177\n",
      "----- Generating text after Epoch: 6\n",
      "----- diversity: 0.2\n",
      "----- Generating with seed: \" a wednesday night girl i'm lonely i'll \"\n",
      " a wednesday night girl i'm lonely i'll be all my big to fack the bottom now i'm to the baround to the cars and i'm the bout to me and i'm been faker some i got a blam the shit i'm all a good to the things you all the car way to the bottom now the pirton the boosed i'm the cars the bottom now the shit i'm the game to me the boosed to the bottom now the cars the shit i'm to be all my time i got the bottom now the way it the shit i'm the \n",
      "----- diversity: 0.5\n",
      "----- Generating with seed: \" a wednesday night girl i'm lonely i'll \"\n",
      " a wednesday night girl i'm lonely i'll but i got a coming and i'm to spend me i got a like the check me you in the cars out to the condoom changed me i would said we boutht on the city me the same things that some i made my things that shit show it you gotta star me to the come fore man i know i'm saying it can do the hop and my this is the dance still cause you not a wake all the shit 'em all i got me all my friends now i'm sing to we\n",
      "Epoch 8/10\n",
      "122444/122444 [==============================] - 98s 803us/step - loss: 1.2100\n",
      "----- Generating text after Epoch: 7\n",
      "----- diversity: 0.2\n",
      "----- Generating with seed: \"it feel a way feel a way young nigga fee\"\n",
      "it feel a way feel a way young nigga feeling like a lot of shit i go all i got the shit i got the work that i got a bandreture i got a bent i got a real but you say you can don't have to me and the compory the creach cree tio still went and i got it i know you gotta stand that i don't wanna be loved to me i got the way it for me i got the work that i started from the fuck and we go threat the real they loving the real nigga we got a pri\n",
      "----- diversity: 0.5\n",
      "----- Generating with seed: \"it feel a way feel a way young nigga fee\"\n",
      "it feel a way feel a way young nigga feel a little all your like a place i do what you say you you go to be in the lips the child in my niggas still one my famor for me i got paid the high to me but would say you know you know you like i go that went the money to the creas and i can't but the right wine but then go are do woah to see a stand my high yave me a real go sleeple what i would never got the way wouldn't wanna take you all so \n",
      "Epoch 9/10\n",
      "122444/122444 [==============================] - 95s 773us/step - loss: 1.2086\n",
      "----- Generating text after Epoch: 8\n",
      "----- diversity: 0.2\n",
      "----- Generating with seed: \"eady i'm blem for real i might just say \"\n",
      "eady i'm blem for real i might just say you they had the shit i get it i get it it's okay it's okay you could true that you can tell me the boy it was and the paities i don't want the cause i got pain i'm trying to be it i'm so i'm trying to see it i'm trying to stand me and i'm start to the talkin' on my secles that i can't be the can party that i'm a don't feel the same i got the shout out to the things i got it i'm some the boy it wa\n",
      "----- diversity: 0.5\n",
      "----- Generating with seed: \"eady i'm blem for real i might just say \"\n",
      "eady i'm blem for real i might just say he hear with my hintess got it you need a banda i can protend i ain't nothing a say i'm hangy no real you gotta take it i said i stead i got pain they had to me a pibul but i'm live it don't take me when of you on the way i wanna been threations it should trust i had to take me now i'm trying to me i got a prot up on me everyone the things and i'm say i'm the prot and riched to get my where i got \n",
      "Epoch 10/10\n",
      "122444/122444 [==============================] - 95s 776us/step - loss: 1.1977\n",
      "----- Generating text after Epoch: 9\n",
      "----- diversity: 0.2\n",
      "----- Generating with seed: \"ing home just hold on we're going home g\"\n",
      "ing home just hold on we're going home go and the low to peace the boy what i don't wanna see it want the way that i did the boy it work the boy and we bout to my nigga that i did it was and i did it was the bout what i start to be all the boy i got me and i started been give it i don't even know that i got no head to be in the cash i just wanna see me fuck a bentle and i did i did that i did it was and i be going in the bead for you ni\n",
      "----- diversity: 0.5\n",
      "----- Generating with seed: \"ing home just hold on we're going home g\"\n",
      "ing home just hold on we're going home go with i es to was smoke one party in the cready my life i'm gone i got high in the way did to put the call say i'm bales i did it show the word we go to make the boy it we did in the boy what i just got you worst the bout to put the boy one shit of the condenger was that's on some there oh yeah yeah yeah yeah yeah yeah yeah yeah yeah yeah yeah yeah yeah ya never take to be scare the life i just g\n"
     ]
    }
   ],
   "source": [
    "print_callback = LambdaCallback(on_epoch_end=on_epoch_end)\n",
    "\n",
    "history = model.fit(\n",
    "    x, \n",
    "    y,\n",
    "    batch_size=128,\n",
    "    epochs=10,\n",
    "    callbacks=[print_callback]\n",
    ")"
   ]
  },
  {
   "cell_type": "code",
   "execution_count": 23,
   "metadata": {},
   "outputs": [
    {
     "data": {
      "text/plain": [
       "[<matplotlib.lines.Line2D at 0x7f73a3d53dd8>]"
      ]
     },
     "execution_count": 23,
     "metadata": {},
     "output_type": "execute_result"
    },
    {
     "data": {
      "image/png": "[encoded data removed]",
      "text/plain": [
       "<matplotlib.figure.Figure at 0x7f73a3d87dd8>"
      ]
     },
     "metadata": {},
     "output_type": "display_data"
    }
   ],
   "source": [
    "import matplotlib.pyplot as plt\n",
    "%matplotlib inline\n",
    "\n",
    "plt.plot(history.history['loss'])"
   ]
  },
  {
   "cell_type": "code",
   "execution_count": 24,
   "metadata": {},
   "outputs": [],
   "source": [
    "def generate_output():\n",
    "    generated = ''\n",
    "    usr_input = input(\"Write the beginning of your poem, the Drake machine will complete it. Your input is: \")\n",
    "\n",
    "    sentence = ('{0:0>' + str(Tx) + '}').format(usr_input).lower()\n",
    "    generated += usr_input \n",
    "\n",
    "    sys.stdout.write(\"\\n\\nHere is your poem: \\n\\n\") \n",
    "    sys.stdout.write(usr_input)\n",
    "    for i in range(400):\n",
    "\n",
    "        x_pred = np.zeros((1, Tx, len(chars)))\n",
    "\n",
    "        for t, char in enumerate(sentence):\n",
    "            if char != '0':\n",
    "                x_pred[0, t, char_indices[char]] = 1.\n",
    "\n",
    "        preds = model.predict(x_pred, verbose=0)[0]\n",
    "        next_index = sample(preds, temperature = 0.2)\n",
    "        next_char = indices_char[next_index]\n",
    "\n",
    "        generated += next_char\n",
    "        sentence = sentence[1:] + next_char\n",
    "\n",
    "        sys.stdout.write(next_char)\n",
    "        sys.stdout.flush()\n",
    "\n",
    "        if next_char == '\\n':\n",
    "            continue"
   ]
  },
  {
   "cell_type": "code",
   "execution_count": 41,
   "metadata": {},
   "outputs": [
    {
     "name": "stdout",
     "output_type": "stream",
     "text": [
      "Write the beginning of your poem, the Drake machine will complete it. Your input is: twenty percent pain thirty percent skill\n",
      "\n",
      "\n",
      "Here is your poem: \n",
      "\n",
      "twenty percent pain thirty percent skill before the body i don't even won a real you know what i start to see it i'm trying to be all the city party the conders in the can but i got it i got no heave you don't wanna see it was and wine it i got no head to me and i would be start to me i got my word to me girl what i did i did it i won't dead that for the boy and the way the bout it i get it i get it i get it i get it i get it i get it i"
     ]
    }
   ],
   "source": [
    "Tx = 40\n",
    "generate_output()"
   ]
  },
  {
   "cell_type": "code",
   "execution_count": 20,
   "metadata": {},
   "outputs": [],
   "source": [
    "import utils"
   ]
  },
  {
   "cell_type": "code",
   "execution_count": null,
   "metadata": {},
   "outputs": [],
   "source": [
    "utils.save_model_weights(model)"
   ]
  },
  {
   "cell_type": "code",
   "execution_count": null,
   "metadata": {},
   "outputs": [],
   "source": []
  }
 ],
 "metadata": {
  "kernelspec": {
   "display_name": "Python 3",
   "language": "python",
   "name": "python3"
  },
  "language_info": {
   "codemirror_mode": {
    "name": "ipython",
    "version": 3
   },
   "file_extension": ".py",
   "mimetype": "text/x-python",
   "name": "python",
   "nbconvert_exporter": "python",
   "pygments_lexer": "ipython3",
   "version": "3.5.2"
  }
 },
 "nbformat": 4,
 "nbformat_minor": 2
}
