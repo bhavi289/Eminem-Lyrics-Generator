{
  "nbformat": 4,
  "nbformat_minor": 0,
  "metadata": {
    "colab": {
      "name": "Eminem Rap Generator (Word Model).ipynb",
      "version": "0.3.2",
      "provenance": [],
      "include_colab_link": true
    },
    "language_info": {
      "codemirror_mode": {
        "name": "ipython",
        "version": 3
      },
      "file_extension": ".py",
      "mimetype": "text/x-python",
      "name": "python",
      "nbconvert_exporter": "python",
      "pygments_lexer": "ipython3",
      "version": "3.6.5"
    },
    "kernelspec": {
      "name": "python3",
      "display_name": "Python 3"
    },
    "accelerator": "GPU"
  },
  "cells": [
    {
      "cell_type": "markdown",
      "metadata": {
        "id": "view-in-github",
        "colab_type": "text"
      },
      "source": [
        "<a href=\"https://colab.research.google.com/github/bhavi289/Eminem-Lyrics-Generator/blob/master/Eminem_Rap_Generator_(Word_Model).ipynb\" target=\"_parent\"><img src=\"https://colab.research.google.com/assets/colab-badge.svg\" alt=\"Open In Colab\"/></a>"
      ]
    },
    {
      "cell_type": "code",
      "metadata": {
        "id": "1lJeFoPkTFpF",
        "colab_type": "code",
        "outputId": "6b6c0ffc-114f-4cd2-eb4f-85b9bf954a54",
        "colab": {
          "base_uri": "https://localhost:8080/",
          "height": 245
        }
      },
      "source": [
        "!pip install unidecode"
      ],
      "execution_count": 2,
      "outputs": [
        {
          "output_type": "stream",
          "text": [
            "Collecting unidecode\n",
            "\u001b[?25l  Downloading https://files.pythonhosted.org/packages/31/39/53096f9217b057cb049fe872b7fc7ce799a1a89b76cf917d9639e7a558b5/Unidecode-1.0.23-py2.py3-none-any.whl (237kB)\n",
            "\u001b[K     |████████████████████████████████| 245kB 3.4MB/s \n",
            "\u001b[?25hInstalling collected packages: unidecode\n",
            "Successfully installed unidecode-1.0.23\n"
          ],
          "name": "stdout"
        }
      ]
    },
    {
      "cell_type": "code",
      "metadata": {
        "id": "AliY4B4YRJb9",
        "colab_type": "code",
        "outputId": "49b449bf-e912-4e4f-8810-1428351f2672",
        "colab": {
          "base_uri": "https://localhost:8080/",
          "height": 209
        }
      },
      "source": [
        "from __future__ import print_function\n",
        "from keras.callbacks import LambdaCallback\n",
        "from keras.models import Sequential\n",
        "from keras.layers import Dense, Activation\n",
        "from keras.layers import LSTM\n",
        "from keras.optimizers import RMSprop, Adam\n",
        "from keras.utils.data_utils import get_file\n",
        "import numpy as np\n",
        "import pandas as pd\n",
        "import random\n",
        "import sys\n",
        "import io\n",
        "import re\n",
        "from unidecode import unidecode\n",
        "\n",
        "from google.colab import drive\n",
        "drive.mount('/content/drive')"
      ],
      "execution_count": 3,
      "outputs": [
        {
          "output_type": "stream",
          "text": [
            "Go to this URL in a browser: https://accounts.google.com/o/oauth2/auth?client_id=947318989803-6bn6qk8qdgf4n4g3pfee6491hc0brc4i.apps.googleusercontent.com&redirect_uri=urn%3Aietf%3Awg%3Aoauth%3A2.0%3Aoob&scope=email%20https%3A%2F%2Fwww.googleapis.com%2Fauth%2Fdocs.test%20https%3A%2F%2Fwww.googleapis.com%2Fauth%2Fdrive%20https%3A%2F%2Fwww.googleapis.com%2Fauth%2Fdrive.photos.readonly%20https%3A%2F%2Fwww.googleapis.com%2Fauth%2Fpeopleapi.readonly&response_type=code\n",
            "\n",
            "Enter your authorization code:\n",
            "··········\n",
            "Mounted at /content/drive\n"
          ],
          "name": "stdout"
        }
      ]
    },
    {
      "cell_type": "code",
      "metadata": {
        "id": "ZUSHAY-VUYVO",
        "colab_type": "code",
        "colab": {}
      },
      "source": [
        "# !ls drive/My\\ Drive\n",
        "dataset_path = \"drive/My Drive/Eminem Rap Lyrics Generator Dataset/\""
      ],
      "execution_count": 0,
      "outputs": []
    },
    {
      "cell_type": "code",
      "metadata": {
        "id": "wv4IHo4ORJcI",
        "colab_type": "code",
        "colab": {}
      },
      "source": [
        "songs = pd.read_csv(dataset_path + 'eminem-songs.csv')"
      ],
      "execution_count": 0,
      "outputs": []
    },
    {
      "cell_type": "code",
      "metadata": {
        "id": "luwODDYcRJcP",
        "colab_type": "code",
        "colab": {}
      },
      "source": [
        "def get_tokenized_lines(df):\n",
        "    words = []\n",
        "    \n",
        "    for index, row in df['lyrics'].iteritems():\n",
        "        row = str(row).lower()\n",
        "        for line in row.split('|-|'):\n",
        "            new_words = re.findall(r\"\\b[a-z']+\\b\", unidecode(line))\n",
        "            words = words + new_words\n",
        "        \n",
        "    return words"
      ],
      "execution_count": 0,
      "outputs": []
    },
    {
      "cell_type": "code",
      "metadata": {
        "id": "7NscTyE6RJcV",
        "colab_type": "code",
        "colab": {}
      },
      "source": [
        "all_lyric_lines = get_tokenized_lines(songs)"
      ],
      "execution_count": 0,
      "outputs": []
    },
    {
      "cell_type": "code",
      "metadata": {
        "id": "Kmh-kg9IRJcb",
        "colab_type": "code",
        "outputId": "cab5a5e1-6136-495e-c1df-839e4bbcd6b4",
        "colab": {
          "base_uri": "https://localhost:8080/",
          "height": 76
        }
      },
      "source": [
        "SEQ_LENGTH = 50 + 1\n",
        "sequences = list()\n",
        "\n",
        "for i in range(SEQ_LENGTH, len(all_lyric_lines)):\n",
        "    seq = all_lyric_lines[i - SEQ_LENGTH: i]\n",
        "    sequences.append(seq)\n",
        "\n",
        "print('Total Sequences: %d' % len(sequences))"
      ],
      "execution_count": 31,
      "outputs": [
        {
          "output_type": "stream",
          "text": [
            "Total Sequences: 11153\n"
          ],
          "name": "stdout"
        }
      ]
    },
    {
      "cell_type": "code",
      "metadata": {
        "id": "-GRb_winRJcn",
        "colab_type": "code",
        "colab": {}
      },
      "source": [
        "def save_doc(lines, filename):\n",
        "    for line in lines:\n",
        "        data = ' '.join(line)\n",
        "        \n",
        "    '\\n'.join(data)\n",
        "    file = open(filename, 'w') ## 'a'?\n",
        "    file.write(data)\n",
        "    file.close()"
      ],
      "execution_count": 0,
      "outputs": []
    },
    {
      "cell_type": "code",
      "metadata": {
        "id": "V2eChMs3RJcs",
        "colab_type": "code",
        "colab": {}
      },
      "source": [
        "out_filename = dataset_path + 'sequences.txt'\n",
        "save_doc(sequences, out_filename)"
      ],
      "execution_count": 0,
      "outputs": []
    },
    {
      "cell_type": "code",
      "metadata": {
        "id": "sQ-q-FuRRJcy",
        "colab_type": "code",
        "outputId": "4de6ea92-810c-4dca-c646-8638254a3704",
        "colab": {
          "base_uri": "https://localhost:8080/",
          "height": 76
        }
      },
      "source": [
        "vocab = set(all_lyric_lines)\n",
        "\n",
        "word_to_index = {w: i for i, w in enumerate(vocab)}\n",
        "index_to_word = {i: w for w, i in word_to_index.items()}\n",
        "word_indices = [word_to_index[word] for word in vocab]\n",
        "vocab_size = len(vocab)\n",
        "\n",
        "print('vocabulary size: {}'.format(vocab_size))"
      ],
      "execution_count": 34,
      "outputs": [
        {
          "output_type": "stream",
          "text": [
            "vocabulary size: 2149\n"
          ],
          "name": "stdout"
        }
      ]
    },
    {
      "cell_type": "code",
      "metadata": {
        "id": "UX_7nKwKRJc4",
        "colab_type": "code",
        "colab": {}
      },
      "source": [
        "def get_tokenized_lines(lines, seq_len):\n",
        "    tokenized = np.zeros((len(lines), seq_len))\n",
        "    \n",
        "    for r, line in enumerate(lines):\n",
        "        for c, word in enumerate(line):\n",
        "            tokenized[r, c] = word_to_index[word]\n",
        "\n",
        "    return tokenized"
      ],
      "execution_count": 0,
      "outputs": []
    },
    {
      "cell_type": "code",
      "metadata": {
        "id": "TfxpHjN8RJc7",
        "colab_type": "code",
        "colab": {}
      },
      "source": [
        "tokenized_seq = get_tokenized_lines(sequences, SEQ_LENGTH)"
      ],
      "execution_count": 0,
      "outputs": []
    },
    {
      "cell_type": "code",
      "metadata": {
        "id": "Tu2deVTzRJc-",
        "colab_type": "code",
        "outputId": "f5677203-8417-40ec-aa40-6352b7e7bfe5",
        "colab": {
          "base_uri": "https://localhost:8080/",
          "height": 76
        }
      },
      "source": [
        "tokenized_seq[:, -1].shape"
      ],
      "execution_count": 41,
      "outputs": [
        {
          "output_type": "execute_result",
          "data": {
            "text/plain": [
              "(11153,)"
            ]
          },
          "metadata": {
            "tags": []
          },
          "execution_count": 41
        }
      ]
    },
    {
      "cell_type": "code",
      "metadata": {
        "id": "fqCarAVJRJdE",
        "colab_type": "code",
        "colab": {}
      },
      "source": [
        "from keras.utils import to_categorical\n",
        "\n",
        "X, y = tokenized_seq[:, :-1], tokenized_seq[:, -1]\n",
        "y = to_categorical(y, num_classes=vocab_size)\n",
        "seq_length = len(X[0])"
      ],
      "execution_count": 0,
      "outputs": []
    },
    {
      "cell_type": "code",
      "metadata": {
        "id": "fpIheLjSRJdH",
        "colab_type": "code",
        "outputId": "800c98f2-2250-47da-ef67-d1f7dbfe5286",
        "colab": {
          "base_uri": "https://localhost:8080/",
          "height": 92
        }
      },
      "source": [
        "print(\"X_shape\", X.shape)\n",
        "print(\"y_shape\", y.shape)"
      ],
      "execution_count": 49,
      "outputs": [
        {
          "output_type": "stream",
          "text": [
            "X_shape (11153, 50)\n",
            "y_shape (11153, 2149)\n"
          ],
          "name": "stdout"
        }
      ]
    },
    {
      "cell_type": "code",
      "metadata": {
        "scrolled": true,
        "id": "AIrk_hYSRJdN",
        "colab_type": "code",
        "outputId": "c2365906-0db1-4cf7-b05a-cbd457e4c913",
        "colab": {
          "base_uri": "https://localhost:8080/",
          "height": 407
        }
      },
      "source": [
        "from keras.models import Sequential\n",
        "from keras.layers import Dense\n",
        "from keras.layers import LSTM\n",
        "from keras.layers import Embedding\n",
        "\n",
        "model = Sequential()\n",
        "model.add(Embedding(vocab_size, 50, input_length=seq_length))\n",
        "model.add(LSTM(100, return_sequences=True))\n",
        "model.add(LSTM(100))\n",
        "model.add(Dense(100, activation='relu'))\n",
        "model.add(Dense(vocab_size, activation='softmax'))\n",
        "print(model.summary())\n",
        "\n"
      ],
      "execution_count": 50,
      "outputs": [
        {
          "output_type": "stream",
          "text": [
            "WARNING:tensorflow:From /usr/local/lib/python3.6/dist-packages/tensorflow/python/framework/op_def_library.py:263: colocate_with (from tensorflow.python.framework.ops) is deprecated and will be removed in a future version.\n",
            "Instructions for updating:\n",
            "Colocations handled automatically by placer.\n",
            "_________________________________________________________________\n",
            "Layer (type)                 Output Shape              Param #   \n",
            "=================================================================\n",
            "embedding_1 (Embedding)      (None, 50, 50)            107450    \n",
            "_________________________________________________________________\n",
            "lstm_1 (LSTM)                (None, 50, 100)           60400     \n",
            "_________________________________________________________________\n",
            "lstm_2 (LSTM)                (None, 100)               80400     \n",
            "_________________________________________________________________\n",
            "dense_1 (Dense)              (None, 100)               10100     \n",
            "_________________________________________________________________\n",
            "dense_2 (Dense)              (None, 2149)              217049    \n",
            "=================================================================\n",
            "Total params: 475,399\n",
            "Trainable params: 475,399\n",
            "Non-trainable params: 0\n",
            "_________________________________________________________________\n",
            "None\n"
          ],
          "name": "stdout"
        }
      ]
    },
    {
      "cell_type": "code",
      "metadata": {
        "id": "MegzoRbJBFoD",
        "colab_type": "code",
        "colab": {
          "base_uri": "https://localhost:8080/",
          "height": 1850
        },
        "outputId": "24ca0390-f1e5-473b-8844-30f14ccacf7b"
      },
      "source": [
        "model.compile(loss='categorical_crossentropy', optimizer='adam', metrics=['accuracy'])\n",
        "history = model.fit(X, y, batch_size=128, epochs=50)"
      ],
      "execution_count": 51,
      "outputs": [
        {
          "output_type": "stream",
          "text": [
            "WARNING:tensorflow:From /usr/local/lib/python3.6/dist-packages/tensorflow/python/ops/math_ops.py:3066: to_int32 (from tensorflow.python.ops.math_ops) is deprecated and will be removed in a future version.\n",
            "Instructions for updating:\n",
            "Use tf.cast instead.\n",
            "Epoch 1/50\n",
            "11153/11153 [==============================] - 17s 2ms/step - loss: 6.6287 - acc: 0.0349\n",
            "Epoch 2/50\n",
            "11153/11153 [==============================] - 14s 1ms/step - loss: 6.1890 - acc: 0.0385\n",
            "Epoch 3/50\n",
            "11153/11153 [==============================] - 14s 1ms/step - loss: 6.1671 - acc: 0.0401\n",
            "Epoch 4/50\n",
            "11153/11153 [==============================] - 16s 1ms/step - loss: 6.0793 - acc: 0.0397\n",
            "Epoch 5/50\n",
            "11153/11153 [==============================] - 14s 1ms/step - loss: 5.9286 - acc: 0.0412\n",
            "Epoch 6/50\n",
            "11153/11153 [==============================] - 14s 1ms/step - loss: 5.7860 - acc: 0.0440\n",
            "Epoch 7/50\n",
            "11153/11153 [==============================] - 14s 1ms/step - loss: 5.6829 - acc: 0.0473\n",
            "Epoch 8/50\n",
            "11153/11153 [==============================] - 14s 1ms/step - loss: 5.5859 - acc: 0.0525\n",
            "Epoch 9/50\n",
            "11153/11153 [==============================] - 14s 1ms/step - loss: 5.4988 - acc: 0.0536\n",
            "Epoch 10/50\n",
            "11153/11153 [==============================] - 15s 1ms/step - loss: 5.4221 - acc: 0.0570\n",
            "Epoch 11/50\n",
            "11153/11153 [==============================] - 14s 1ms/step - loss: 5.3482 - acc: 0.0592\n",
            "Epoch 12/50\n",
            "11153/11153 [==============================] - 14s 1ms/step - loss: 5.2777 - acc: 0.0610\n",
            "Epoch 13/50\n",
            "11153/11153 [==============================] - 14s 1ms/step - loss: 5.2022 - acc: 0.0638\n",
            "Epoch 14/50\n",
            "11153/11153 [==============================] - 14s 1ms/step - loss: 5.1269 - acc: 0.0713\n",
            "Epoch 15/50\n",
            "11153/11153 [==============================] - 14s 1ms/step - loss: 5.0527 - acc: 0.0748\n",
            "Epoch 16/50\n",
            "11153/11153 [==============================] - 15s 1ms/step - loss: 4.9859 - acc: 0.0765\n",
            "Epoch 17/50\n",
            "11153/11153 [==============================] - 14s 1ms/step - loss: 4.9146 - acc: 0.0794\n",
            "Epoch 18/50\n",
            "11153/11153 [==============================] - 14s 1ms/step - loss: 4.8460 - acc: 0.0823\n",
            "Epoch 19/50\n",
            "11153/11153 [==============================] - 14s 1ms/step - loss: 4.7889 - acc: 0.0877\n",
            "Epoch 20/50\n",
            "11153/11153 [==============================] - 14s 1ms/step - loss: 4.7278 - acc: 0.0902\n",
            "Epoch 21/50\n",
            "11153/11153 [==============================] - 15s 1ms/step - loss: 4.6668 - acc: 0.0947\n",
            "Epoch 22/50\n",
            "11153/11153 [==============================] - 14s 1ms/step - loss: 4.6162 - acc: 0.0984\n",
            "Epoch 23/50\n",
            "11153/11153 [==============================] - 14s 1ms/step - loss: 4.5637 - acc: 0.1003\n",
            "Epoch 24/50\n",
            "11153/11153 [==============================] - 14s 1ms/step - loss: 4.5128 - acc: 0.1064\n",
            "Epoch 25/50\n",
            "11153/11153 [==============================] - 14s 1ms/step - loss: 4.4592 - acc: 0.1098\n",
            "Epoch 26/50\n",
            "11153/11153 [==============================] - 15s 1ms/step - loss: 5.0334 - acc: 0.0866\n",
            "Epoch 27/50\n",
            "11153/11153 [==============================] - 15s 1ms/step - loss: 4.5568 - acc: 0.0954\n",
            "Epoch 28/50\n",
            "11153/11153 [==============================] - 14s 1ms/step - loss: 4.4397 - acc: 0.1044\n",
            "Epoch 29/50\n",
            "11153/11153 [==============================] - 14s 1ms/step - loss: 4.3762 - acc: 0.1130\n",
            "Epoch 30/50\n",
            "11153/11153 [==============================] - 14s 1ms/step - loss: 4.3194 - acc: 0.1143\n",
            "Epoch 31/50\n",
            "11153/11153 [==============================] - 14s 1ms/step - loss: 4.2566 - acc: 0.1170\n",
            "Epoch 32/50\n",
            "11153/11153 [==============================] - 14s 1ms/step - loss: 4.2034 - acc: 0.1279\n",
            "Epoch 33/50\n",
            "11153/11153 [==============================] - 15s 1ms/step - loss: 4.1584 - acc: 0.1323\n",
            "Epoch 34/50\n",
            "11153/11153 [==============================] - 14s 1ms/step - loss: 4.1089 - acc: 0.1341\n",
            "Epoch 35/50\n",
            "11153/11153 [==============================] - 14s 1ms/step - loss: 4.0694 - acc: 0.1403\n",
            "Epoch 36/50\n",
            "11153/11153 [==============================] - 14s 1ms/step - loss: 4.0200 - acc: 0.1473\n",
            "Epoch 37/50\n",
            "11153/11153 [==============================] - 14s 1ms/step - loss: 3.9726 - acc: 0.1466\n",
            "Epoch 38/50\n",
            "11153/11153 [==============================] - 14s 1ms/step - loss: 3.9251 - acc: 0.1538\n",
            "Epoch 39/50\n",
            "11153/11153 [==============================] - 15s 1ms/step - loss: 3.8833 - acc: 0.1586\n",
            "Epoch 40/50\n",
            "11153/11153 [==============================] - 14s 1ms/step - loss: 3.8366 - acc: 0.1650\n",
            "Epoch 41/50\n",
            "11153/11153 [==============================] - 14s 1ms/step - loss: 3.7977 - acc: 0.1674\n",
            "Epoch 42/50\n",
            "11153/11153 [==============================] - 14s 1ms/step - loss: 3.7540 - acc: 0.1759\n",
            "Epoch 43/50\n",
            "11153/11153 [==============================] - 14s 1ms/step - loss: 3.7094 - acc: 0.1776\n",
            "Epoch 44/50\n",
            "11153/11153 [==============================] - 15s 1ms/step - loss: 3.6677 - acc: 0.1895\n",
            "Epoch 45/50\n",
            "11153/11153 [==============================] - 14s 1ms/step - loss: 3.6199 - acc: 0.1930\n",
            "Epoch 46/50\n",
            "11153/11153 [==============================] - 14s 1ms/step - loss: 3.5900 - acc: 0.1951\n",
            "Epoch 47/50\n",
            "11153/11153 [==============================] - 14s 1ms/step - loss: 3.5405 - acc: 0.2058\n",
            "Epoch 48/50\n",
            "11153/11153 [==============================] - 16s 1ms/step - loss: 3.4913 - acc: 0.2129\n",
            "Epoch 49/50\n",
            "11153/11153 [==============================] - 14s 1ms/step - loss: 3.4493 - acc: 0.2208\n",
            "Epoch 50/50\n",
            "11153/11153 [==============================] - 15s 1ms/step - loss: 3.4117 - acc: 0.2240\n"
          ],
          "name": "stdout"
        }
      ]
    },
    {
      "cell_type": "code",
      "metadata": {
        "id": "gw41JuenRJdS",
        "colab_type": "code",
        "colab": {}
      },
      "source": [
        "import matplotlib.pyplot as plt"
      ],
      "execution_count": 0,
      "outputs": []
    },
    {
      "cell_type": "code",
      "metadata": {
        "id": "-C3hppK5RJdV",
        "colab_type": "code",
        "outputId": "cde03d30-92fd-4f36-d06b-50cd108f31ff",
        "colab": {
          "base_uri": "https://localhost:8080/",
          "height": 307
        }
      },
      "source": [
        "plt.plot(history.history['loss'])"
      ],
      "execution_count": 53,
      "outputs": [
        {
          "output_type": "execute_result",
          "data": {
            "text/plain": [
              "[<matplotlib.lines.Line2D at 0x7fe5c064eeb8>]"
            ]
          },
          "metadata": {
            "tags": []
          },
          "execution_count": 53
        },
        {
          "output_type": "display_data",
          "data": {
            "image/png": "[encoded data removed]",
            "text/plain": [
              "<Figure size 432x288 with 1 Axes>"
            ]
          },
          "metadata": {
            "tags": []
          }
        }
      ]
    },
    {
      "cell_type": "code",
      "metadata": {
        "scrolled": false,
        "id": "aR-KWAR8RJdt",
        "colab_type": "code",
        "colab": {}
      },
      "source": [
        "model.save('model.h5')\n",
        "drive/My Drive/Eminem Rap Lyrics Generator Dataset/"
      ],
      "execution_count": 0,
      "outputs": []
    },
    {
      "cell_type": "code",
      "metadata": {
        "id": "YvoQdJp1F0VC",
        "colab_type": "code",
        "colab": {}
      },
      "source": [
        "!cp model.h5 drive/My\\ Drive/Eminem\\ Rap\\ Lyrics\\ Generator\\ Dataset/"
      ],
      "execution_count": 0,
      "outputs": []
    },
    {
      "cell_type": "code",
      "metadata": {
        "id": "KA1ZUBBTGJCG",
        "colab_type": "code",
        "colab": {
          "base_uri": "https://localhost:8080/",
          "height": 185
        },
        "outputId": "8d7e2d93-2656-4c9f-a2f6-634f0bc63119"
      },
      "source": [
        "!ls drive/My\\ Drive/Eminem\\ Rap\\ Lyrics\\ Generator\\ Dataset/"
      ],
      "execution_count": 59,
      "outputs": [
        {
          "output_type": "stream",
          "text": [
            "eminem-songs.csv  model.h5  sequences.txt\n"
          ],
          "name": "stdout"
        }
      ]
    },
    {
      "cell_type": "code",
      "metadata": {
        "id": "9jQTCP5gGXQq",
        "colab_type": "code",
        "colab": {
          "base_uri": "https://localhost:8080/",
          "height": 185
        },
        "outputId": "f190cce4-0d54-489e-8427-3f3d490d32f9"
      },
      "source": [
        "!ls"
      ],
      "execution_count": 63,
      "outputs": [
        {
          "output_type": "stream",
          "text": [
            "drive  model.h5  sample_data  sequences.txt\n"
          ],
          "name": "stdout"
        }
      ]
    },
    {
      "cell_type": "code",
      "metadata": {
        "id": "rE8Mog-0RJdx",
        "colab_type": "code",
        "colab": {}
      },
      "source": [
        "from keras.models import load_model\n",
        "\n",
        "model = load_model('model.h5')"
      ],
      "execution_count": 0,
      "outputs": []
    },
    {
      "cell_type": "code",
      "metadata": {
        "id": "5FpNjWSaRJdz",
        "colab_type": "code",
        "colab": {}
      },
      "source": [
        "def load_doc(filename):\n",
        "    file = open(filename, 'r')\n",
        "    text = file.read()\n",
        "    file.close()\n",
        "    return text"
      ],
      "execution_count": 0,
      "outputs": []
    },
    {
      "cell_type": "code",
      "metadata": {
        "id": "efW0SUfFRJd1",
        "colab_type": "code",
        "colab": {}
      },
      "source": [
        "# load cleaned text sequences\n",
        "in_filename = 'sequences.txt'\n",
        "doc = load_doc(in_filename)\n",
        "lines = doc.split('\\n')\n",
        "seq_length = SEQ_LENGTH - 1"
      ],
      "execution_count": 0,
      "outputs": []
    },
    {
      "cell_type": "code",
      "metadata": {
        "id": "e7clQcaURJd3",
        "colab_type": "code",
        "outputId": "45d7e3e1-51e6-446d-9408-7e0c55d616da",
        "colab": {
          "base_uri": "https://localhost:8080/",
          "height": 92
        }
      },
      "source": [
        "from random import randint\n",
        "\n",
        "seed_text = lines[randint(0,len(lines))]\n",
        "print(seed_text + '\\n')"
      ],
      "execution_count": 65,
      "outputs": [
        {
          "output_type": "stream",
          "text": [
            "key in the door and bodies layin all over the floor and i don't remember how they got there but i guess i must've killed em killed em yo yo ayo evil rise yo yo ayo evil rise yo yo ayo evil rise yo yo ayo evil rise evil rise evil\n",
            "\n"
          ],
          "name": "stdout"
        }
      ]
    },
    {
      "cell_type": "code",
      "metadata": {
        "id": "NUjVZlUeRJd6",
        "colab_type": "code",
        "colab": {}
      },
      "source": [
        "def texts_to_sequences(texts, word_to_index):\n",
        "    indices = np.zeros((1, len(texts)), dtype=int)\n",
        "    \n",
        "    for i, text in enumerate(texts):\n",
        "        indices[:, i] = word_to_index[text]\n",
        "        \n",
        "    return indices"
      ],
      "execution_count": 0,
      "outputs": []
    },
    {
      "cell_type": "code",
      "metadata": {
        "id": "L-PPlPtZRJd7",
        "colab_type": "code",
        "colab": {}
      },
      "source": [
        "def my_pad_sequences(seq, maxlen):\n",
        "    start = seq.shape[1] - maxlen\n",
        "    \n",
        "    return seq[:, start: start + maxlen]"
      ],
      "execution_count": 0,
      "outputs": []
    },
    {
      "cell_type": "code",
      "metadata": {
        "id": "8ZL1yaMkRJd9",
        "colab_type": "code",
        "colab": {}
      },
      "source": [
        "def generate_seq(model, word_to_index, seq_length, seed_text, n_words):\n",
        "    result = list()\n",
        "    in_text = seed_text\n",
        "\n",
        "    for _ in range(n_words):\n",
        "        encoded = texts_to_sequences(in_text.split()[1:], word_to_index)\n",
        "        encoded = my_pad_sequences(encoded, maxlen=seq_length)\n",
        "        \n",
        "        yhat = model.predict_classes(encoded, verbose=0)\n",
        "        out_word = ''\n",
        "    \n",
        "        for word, index in word_to_index.items():\n",
        "            if index == yhat:\n",
        "                out_word = word\n",
        "                break\n",
        "        \n",
        "        in_text += ' ' + out_word\n",
        "        result.append(out_word)\n",
        "        \n",
        "    return ' '.join(result)"
      ],
      "execution_count": 0,
      "outputs": []
    },
    {
      "cell_type": "code",
      "metadata": {
        "id": "t1f0HQrdRJd_",
        "colab_type": "code",
        "outputId": "8b3419a8-b071-4b2b-b56e-53c636071bc4",
        "colab": {
          "base_uri": "https://localhost:8080/",
          "height": 96
        }
      },
      "source": [
        "generated = generate_seq(model, word_to_index, seq_length, seed_text, 50)\n",
        "print(generated)"
      ],
      "execution_count": 70,
      "outputs": [
        {
          "output_type": "stream",
          "text": [
            "rise until the key and a rip with a father or young do a ago and wondering your fuck of the times are o me this reason and stapled a opportunity are chainsaw this reserved a bath are o when the life and vodka the chance the news everyday i\n"
          ],
          "name": "stdout"
        }
      ]
    },
    {
      "cell_type": "code",
      "metadata": {
        "id": "KRD4zsuEGr7Q",
        "colab_type": "code",
        "colab": {}
      },
      "source": [
        ""
      ],
      "execution_count": 0,
      "outputs": []
    }
  ]
}